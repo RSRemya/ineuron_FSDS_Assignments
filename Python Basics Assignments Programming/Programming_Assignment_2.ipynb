{
 "cells": [
  {
   "cell_type": "markdown",
   "id": "d7063eb8",
   "metadata": {},
   "source": [
    "# Programming Assignment 2"
   ]
  },
  {
   "cell_type": "markdown",
   "id": "2b0a3731",
   "metadata": {},
   "source": [
    "**1. Write a Python program to convert kilometers to miles?**"
   ]
  },
  {
   "cell_type": "code",
   "execution_count": 3,
   "id": "4300693c",
   "metadata": {},
   "outputs": [
    {
     "name": "stdout",
     "output_type": "stream",
     "text": [
      "Enter Kilometer value : 5\n",
      "Kilometer in miles :  3.1068499999999997\n"
     ]
    }
   ],
   "source": [
    "# 1 kilometer equals 0.62137 miles.\n",
    "\n",
    "a = float(input(\"Enter Kilometer value : \"))\n",
    "b = a*0.62137\n",
    "print(\"Kilometer in miles : \", b)"
   ]
  },
  {
   "cell_type": "markdown",
   "id": "fc81fa5d",
   "metadata": {},
   "source": [
    "**2. Write a Python program to convert Celsius to Fahrenheit?**"
   ]
  },
  {
   "cell_type": "code",
   "execution_count": 6,
   "id": "a9da4845",
   "metadata": {},
   "outputs": [
    {
     "name": "stdout",
     "output_type": "stream",
     "text": [
      "Enter Celsius : 37\n",
      "Fahrenheit :  98.60000000000001\n"
     ]
    }
   ],
   "source": [
    "# Fahrenheit = (Celsius * 1.8) + 32\n",
    "\n",
    "a = float(input(\"Enter Celsius : \"))\n",
    "b = a * 1.8 +32\n",
    "print(\"Fahrenheit : \", b)"
   ]
  },
  {
   "cell_type": "markdown",
   "id": "c2dec778",
   "metadata": {},
   "source": [
    "**3. Write a Python program to display calendar?**"
   ]
  },
  {
   "cell_type": "code",
   "execution_count": 7,
   "id": "91c33208",
   "metadata": {},
   "outputs": [
    {
     "name": "stdout",
     "output_type": "stream",
     "text": [
      "Enter an year :2023\n",
      "Enter a month :5\n",
      "calendar of given month and year\n",
      "      May 2023\n",
      "Mo Tu We Th Fr Sa Su\n",
      " 1  2  3  4  5  6  7\n",
      " 8  9 10 11 12 13 14\n",
      "15 16 17 18 19 20 21\n",
      "22 23 24 25 26 27 28\n",
      "29 30 31\n",
      "\n",
      "calendar of given year\n",
      "                                  2023\n",
      "\n",
      "      January                   February                   March\n",
      "Mo Tu We Th Fr Sa Su      Mo Tu We Th Fr Sa Su      Mo Tu We Th Fr Sa Su\n",
      "                   1             1  2  3  4  5             1  2  3  4  5\n",
      " 2  3  4  5  6  7  8       6  7  8  9 10 11 12       6  7  8  9 10 11 12\n",
      " 9 10 11 12 13 14 15      13 14 15 16 17 18 19      13 14 15 16 17 18 19\n",
      "16 17 18 19 20 21 22      20 21 22 23 24 25 26      20 21 22 23 24 25 26\n",
      "23 24 25 26 27 28 29      27 28                     27 28 29 30 31\n",
      "30 31\n",
      "\n",
      "       April                      May                       June\n",
      "Mo Tu We Th Fr Sa Su      Mo Tu We Th Fr Sa Su      Mo Tu We Th Fr Sa Su\n",
      "                1  2       1  2  3  4  5  6  7                1  2  3  4\n",
      " 3  4  5  6  7  8  9       8  9 10 11 12 13 14       5  6  7  8  9 10 11\n",
      "10 11 12 13 14 15 16      15 16 17 18 19 20 21      12 13 14 15 16 17 18\n",
      "17 18 19 20 21 22 23      22 23 24 25 26 27 28      19 20 21 22 23 24 25\n",
      "24 25 26 27 28 29 30      29 30 31                  26 27 28 29 30\n",
      "\n",
      "        July                     August                  September\n",
      "Mo Tu We Th Fr Sa Su      Mo Tu We Th Fr Sa Su      Mo Tu We Th Fr Sa Su\n",
      "                1  2          1  2  3  4  5  6                   1  2  3\n",
      " 3  4  5  6  7  8  9       7  8  9 10 11 12 13       4  5  6  7  8  9 10\n",
      "10 11 12 13 14 15 16      14 15 16 17 18 19 20      11 12 13 14 15 16 17\n",
      "17 18 19 20 21 22 23      21 22 23 24 25 26 27      18 19 20 21 22 23 24\n",
      "24 25 26 27 28 29 30      28 29 30 31               25 26 27 28 29 30\n",
      "31\n",
      "\n",
      "      October                   November                  December\n",
      "Mo Tu We Th Fr Sa Su      Mo Tu We Th Fr Sa Su      Mo Tu We Th Fr Sa Su\n",
      "                   1             1  2  3  4  5                   1  2  3\n",
      " 2  3  4  5  6  7  8       6  7  8  9 10 11 12       4  5  6  7  8  9 10\n",
      " 9 10 11 12 13 14 15      13 14 15 16 17 18 19      11 12 13 14 15 16 17\n",
      "16 17 18 19 20 21 22      20 21 22 23 24 25 26      18 19 20 21 22 23 24\n",
      "23 24 25 26 27 28 29      27 28 29 30               25 26 27 28 29 30 31\n",
      "30 31\n",
      "\n"
     ]
    }
   ],
   "source": [
    "\n",
    "# import module\n",
    "import calendar\n",
    " \n",
    "yy = int(input(\"Enter an year :\"))\n",
    "mm = int(input(\"Enter a month :\"))\n",
    " \n",
    "# display the calendar\n",
    "print(\"calendar of given month and year\")\n",
    "print(calendar.month(yy, mm))\n",
    "\n",
    "print(\"calendar of given year\")\n",
    "print(calendar.calendar(yy))"
   ]
  },
  {
   "cell_type": "markdown",
   "id": "2f344a8e",
   "metadata": {},
   "source": [
    "**4. Write a Python program to solve quadratic equation?**"
   ]
  },
  {
   "cell_type": "code",
   "execution_count": 10,
   "id": "d3825441",
   "metadata": {},
   "outputs": [
    {
     "name": "stdout",
     "output_type": "stream",
     "text": [
      "The roots are\n",
      "(-1.2717797887081348+0j)\n",
      "(0.4717797887081348+0j)\n"
     ]
    }
   ],
   "source": [
    "# import complex math module\n",
    "import cmath\n",
    " \n",
    "a = 5\n",
    "b = 4\n",
    "c = -3\n",
    " \n",
    "# calculating  the discriminant\n",
    "dis = (b**2) - (4 * a*c)\n",
    " \n",
    "# find two results\n",
    "ans1 = (-b-cmath.sqrt(dis))/(2 * a)\n",
    "ans2 = (-b + cmath.sqrt(dis))/(2 * a)\n",
    " \n",
    "# printing the results\n",
    "print('The roots are')\n",
    "print(ans1)\n",
    "print(ans2)"
   ]
  },
  {
   "cell_type": "markdown",
   "id": "02a2341f",
   "metadata": {},
   "source": [
    "**5. Write a Python program to swap two variables without temp variable?**"
   ]
  },
  {
   "cell_type": "code",
   "execution_count": 11,
   "id": "5900543e",
   "metadata": {},
   "outputs": [
    {
     "name": "stdout",
     "output_type": "stream",
     "text": [
      "Value of x:  50\n",
      "Value of y:  10\n"
     ]
    }
   ],
   "source": [
    "x = 10\n",
    "y = 50\n",
    " \n",
    "# Swapping of two variables\n",
    "# without using third variable\n",
    "x, y = y, x\n",
    " \n",
    "print(\"Value of x: \", x)\n",
    "print(\"Value of y: \", y)"
   ]
  },
  {
   "cell_type": "code",
   "execution_count": null,
   "id": "2f02d117",
   "metadata": {},
   "outputs": [],
   "source": []
  }
 ],
 "metadata": {
  "kernelspec": {
   "display_name": "Python 3 (ipykernel)",
   "language": "python",
   "name": "python3"
  },
  "language_info": {
   "codemirror_mode": {
    "name": "ipython",
    "version": 3
   },
   "file_extension": ".py",
   "mimetype": "text/x-python",
   "name": "python",
   "nbconvert_exporter": "python",
   "pygments_lexer": "ipython3",
   "version": "3.9.13"
  }
 },
 "nbformat": 4,
 "nbformat_minor": 5
}
