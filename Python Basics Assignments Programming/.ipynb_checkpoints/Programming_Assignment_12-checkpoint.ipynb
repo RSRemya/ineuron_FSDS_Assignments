{
 "cells": [
  {
   "cell_type": "markdown",
   "id": "748ce100",
   "metadata": {},
   "source": [
    "# Programming Assignment 12"
   ]
  },
  {
   "cell_type": "markdown",
   "id": "24c11c65",
   "metadata": {},
   "source": [
    "**1. Write a Python program to Extract Unique values dictionary values?**"
   ]
  },
  {
   "cell_type": "code",
   "execution_count": 2,
   "id": "71b9693c",
   "metadata": {},
   "outputs": [
    {
     "name": "stdout",
     "output_type": "stream",
     "text": [
      "The original dictionary is :  {'A': [10, 11, 2], 'B': [4, 6, 8, 10], 'C': [9, 10, 23, 11, 2], 'D': [10, 3, 4]}\n",
      "The unique values list is :  [2, 3, 4, 6, 8, 9, 10, 11, 23]\n"
     ]
    }
   ],
   "source": [
    "from itertools import chain\n",
    "\n",
    "dict1 = {'A' : [10, 11, 2],\n",
    "             'B' : [4, 6, 8, 10],\n",
    "             'C' : [9, 10, 23, 11, 2],\n",
    "             'D' : [10, 3, 4]}\n",
    "  \n",
    "print(\"The original dictionary is : \" ,dict1)\n",
    "\n",
    "res = list(sorted(set(chain(*dict1.values()))))\n",
    "\n",
    "print(\"The unique values list is : \" , res) "
   ]
  },
  {
   "cell_type": "markdown",
   "id": "f55466b7",
   "metadata": {},
   "source": [
    "**2. Write a Python program to find the sum of all items in a dictionary?**"
   ]
  },
  {
   "cell_type": "code",
   "execution_count": 3,
   "id": "da88bf54",
   "metadata": {},
   "outputs": [
    {
     "name": "stdout",
     "output_type": "stream",
     "text": [
      "Sum : 600\n"
     ]
    }
   ],
   "source": [
    "def giveSum(myDict):\n",
    " \n",
    "    list = []\n",
    "    for i in myDict:\n",
    "        list.append(myDict[i])\n",
    "    final = sum(list)\n",
    " \n",
    "    return final\n",
    " \n",
    "dict = {'a': 100, 'b': 200, 'c': 300}\n",
    "print(\"Sum :\", giveSum(dict))"
   ]
  },
  {
   "cell_type": "markdown",
   "id": "555f5585",
   "metadata": {},
   "source": [
    "**3. Write a Python program to Merging two Dictionaries?**"
   ]
  },
  {
   "cell_type": "code",
   "execution_count": 4,
   "id": "53abf63b",
   "metadata": {},
   "outputs": [
    {
     "name": "stdout",
     "output_type": "stream",
     "text": [
      "{1: 'a', 2: 'c', 4: 'd'}\n"
     ]
    }
   ],
   "source": [
    "dict_1 = {1: 'a', 2: 'b'}\n",
    "dict_2 = {2: 'c', 4: 'd'}\n",
    "\n",
    "print(dict_1 | dict_2)"
   ]
  },
  {
   "cell_type": "markdown",
   "id": "a28f087b",
   "metadata": {},
   "source": [
    "**4. Write a Python program to convert key-values list to flat dictionary?**"
   ]
  },
  {
   "cell_type": "code",
   "execution_count": 9,
   "id": "391a9c0e",
   "metadata": {},
   "outputs": [
    {
     "name": "stdout",
     "output_type": "stream",
     "text": [
      "\n",
      "Original dictionary elements:\n",
      "{'Remya': 33, 'Rishma': 29, 'Majeesh': 38, 'Ashwin': 31}\n",
      "\n",
      "Create a flat list of all the keys of the said flat dictionary:\n",
      "['Remya', 'Rishma', 'Majeesh', 'Ashwin']\n"
     ]
    }
   ],
   "source": [
    "def test(flat_dict):\n",
    "    return list(flat_dict.keys())\n",
    "students = {\n",
    "  'Remya': 33,\n",
    "  'Rishma': 29,\n",
    "  'Majeesh': 38,\n",
    "  'Ashwin': 31\n",
    "}\n",
    "\n",
    "print(\"\\nOriginal dictionary elements:\")\n",
    "print(students)\n",
    "print(\"\\nCreate a flat list of all the keys of the said flat dictionary:\")\n",
    "print(test(students))"
   ]
  },
  {
   "cell_type": "markdown",
   "id": "408b0f06",
   "metadata": {},
   "source": [
    "**5. Write a Python program to insertion at the beginning in OrderedDict?**"
   ]
  },
  {
   "cell_type": "code",
   "execution_count": 13,
   "id": "225b48bc",
   "metadata": {},
   "outputs": [
    {
     "name": "stdout",
     "output_type": "stream",
     "text": [
      "Resultant Dictionary :OrderedDict([('Majeesh', '4'), ('Ashwin', '4'), ('Remya', '1'), ('Rishma', '2')])\n"
     ]
    }
   ],
   "source": [
    "from collections import OrderedDict\n",
    "\n",
    "ini_dict1 = OrderedDict([('Remya', '1'), ('Rishma', '2')])\n",
    "ini_dict2 = OrderedDict([(\"Majeesh\", '4'), (\"Ashwin\", '4')])\n",
    " \n",
    "both = OrderedDict(list(ini_dict2.items()) + list(ini_dict1.items()))\n",
    "\n",
    "print (\"Resultant Dictionary :\"+str(both))"
   ]
  },
  {
   "cell_type": "markdown",
   "id": "8d3dbfd7",
   "metadata": {},
   "source": [
    "**6. Write a Python program to check order of character in string using OrderedDict()?**"
   ]
  },
  {
   "cell_type": "code",
   "execution_count": 12,
   "id": "07312ce2",
   "metadata": {},
   "outputs": [
    {
     "name": "stdout",
     "output_type": "stream",
     "text": [
      "False\n",
      "True\n"
     ]
    }
   ],
   "source": [
    "from collections import OrderedDict \n",
    "def checkOrder(string, pattern): \n",
    "    dic = OrderedDict.fromkeys(string) \n",
    "    ptr = 0\n",
    "    for key,value in dic.items(): \n",
    "        if (key == pattern[ptr]): \n",
    "            ptr = ptr + 1\n",
    "        if (ptr == (len(pattern))): \n",
    "            return 'True'\n",
    "    return 'False'\n",
    "\n",
    "string = 'Study tonight'\n",
    "pattern = 'stu'\n",
    "print (checkOrder(string,pattern))\n",
    "\n",
    "string2= 'Welcome'\n",
    "pattern2= 'cm'\n",
    "print (checkOrder(string2,pattern2)) "
   ]
  },
  {
   "cell_type": "markdown",
   "id": "674242f5",
   "metadata": {},
   "source": [
    "**7. Write a Python program to sort Python Dictionaries by Key or Value?**"
   ]
  },
  {
   "cell_type": "code",
   "execution_count": 14,
   "id": "6d5078e7",
   "metadata": {},
   "outputs": [
    {
     "name": "stdout",
     "output_type": "stream",
     "text": [
      "{'Ashwin': 10, 'Majeesh': 9, 'Nimmy': 32, 'Remya': 2, 'Rishma': 15}\n"
     ]
    }
   ],
   "source": [
    "# Creates a sorted dictionary : sorted by keys\n",
    "myDict = {'Ashwin': 10, 'Majeesh': 9,\n",
    "        'Rishma': 15, 'Remya': 2, 'Nimmy': 32}\n",
    " \n",
    "myKeys = list(myDict.keys())\n",
    "myKeys.sort()\n",
    "sorted_dict_wrt_keys = {i: myDict[i] for i in myKeys}\n",
    " \n",
    "print(sorted_dict_wrt_keys)"
   ]
  },
  {
   "cell_type": "code",
   "execution_count": 17,
   "id": "3c61119c",
   "metadata": {},
   "outputs": [
    {
     "name": "stdout",
     "output_type": "stream",
     "text": [
      "{'Remya': 2, 'Majeesh': 9, 'Ashwin': 10, 'Rishma': 15, 'Nimmy': 32}\n"
     ]
    }
   ],
   "source": [
    "# Creates a sorted dictionary : sorted by values\n",
    "from collections import OrderedDict\n",
    "import numpy as np\n",
    " \n",
    "myDict = {'Ashwin': 10, 'Majeesh': 9,\n",
    "        'Rishma': 15, 'Remya': 2, 'Nimmy': 32}\n",
    " \n",
    "keys = list(myDict.keys())\n",
    "values = list(myDict.values())\n",
    "sorted_value_index = np.argsort(values)\n",
    "sorted_dict = {keys[i]: values[i] for i in sorted_value_index}\n",
    " \n",
    "print(sorted_dict)"
   ]
  },
  {
   "cell_type": "code",
   "execution_count": null,
   "id": "3541bcf4",
   "metadata": {},
   "outputs": [],
   "source": []
  }
 ],
 "metadata": {
  "kernelspec": {
   "display_name": "Python 3 (ipykernel)",
   "language": "python",
   "name": "python3"
  },
  "language_info": {
   "codemirror_mode": {
    "name": "ipython",
    "version": 3
   },
   "file_extension": ".py",
   "mimetype": "text/x-python",
   "name": "python",
   "nbconvert_exporter": "python",
   "pygments_lexer": "ipython3",
   "version": "3.9.13"
  }
 },
 "nbformat": 4,
 "nbformat_minor": 5
}
