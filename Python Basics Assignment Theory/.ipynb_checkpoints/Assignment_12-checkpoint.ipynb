{
 "cells": [
  {
   "cell_type": "markdown",
   "id": "2f149cae",
   "metadata": {
    "id": "2f149cae"
   },
   "source": [
    "# Assignment 12"
   ]
  },
  {
   "cell_type": "markdown",
   "id": "354c063f",
   "metadata": {
    "id": "354c063f"
   },
   "source": [
    "#### 1. In what modes should the PdfFileReader() and PdfFileWriter() File objects will be opened?\n",
    "**Ans:** For **`PdfFileReader()`** file objects WILL be opened in **`rb`** -> read binary mode, Whereas for **`PdfFileWriter()`** file objects WILL be opened in **`wb`** -> write binary mode."
   ]
  },
  {
   "cell_type": "markdown",
   "id": "c1bd13eb",
   "metadata": {
    "id": "c1bd13eb"
   },
   "source": [
    "#### 2. From a PdfFileReader object, how do you get a Page object for page 5?\n",
    "**Ans:** **`PdfFileReader`** class provides a method called **`getPage(page_no)`** to get a page object."
   ]
  },
  {
   "cell_type": "code",
   "execution_count": 1,
   "id": "12ff1b93",
   "metadata": {},
   "outputs": [
    {
     "name": "stdout",
     "output_type": "stream",
     "text": [
      "Defaulting to user installation because normal site-packages is not writeable\n",
      "Collecting PyPDF2\n",
      "  Downloading pypdf2-3.0.1-py3-none-any.whl (232 kB)\n",
      "     ------------------------------------ 232.6/232.6 kB 839.0 kB/s eta 0:00:00\n",
      "Requirement already satisfied: typing_extensions>=3.10.0.0 in c:\\programdata\\anaconda3\\lib\\site-packages (from PyPDF2) (4.3.0)\n",
      "Installing collected packages: PyPDF2\n",
      "Successfully installed PyPDF2-3.0.1\n",
      "Note: you may need to restart the kernel to use updated packages.\n"
     ]
    }
   ],
   "source": [
    "pip install PyPDF2"
   ]
  },
  {
   "cell_type": "code",
   "execution_count": 19,
   "id": "911bee10",
   "metadata": {
    "id": "911bee10"
   },
   "outputs": [
    {
     "data": {
      "text/plain": [
       "'BOARD MINUTES  -4- MARCH 7, 2014 \\n \\n \\n5.1.9 On motion of Dr. Miranti, seconded by Mr. Lee, the Board approved , as a \\nNotice of Intent, revisions to Bulletin 1566, Pupil Progression Policies and \\nProcedures :  §503.  Regular Placement , as presented by the LDE . \\n \\n5.1.10 On motion of Dr. Miranti, seconded by Mr. Lee, the Board approved , as a \\nNotice of Intent, revisions to Bulletin 111, The Louisiana School, District, \\nand State Accountability System : §301. School Performance Score Goal; \\n§303. Transition from Fall 2013 to Sp ring 2015; §413. Dropout/Credit \\nAccumulation Index Calculations; §517. Inclusion of Schools; §521. \\nPairing/Sharing of Schools with Insufficient Test Data; §603. Determining \\na Cohort for a Graduation; §611. Documenting a Graduation Index; \\n§1301. Reward Elig ibility; §2301. Schools Requiring \\nReconstitution/Alternate Governance Plans; §3101. Appeals/Waivers and \\nData Certification Processes; §3301. Inclusion of New Schools; §3303. \\nReconfigured Schools; §4101. Valid Data Considerations; §4301. \\nInclusion of All Di stricts; and §4317. District Accountability Data \\nCorrections , as presented by the LDE . \\n \\nDr. Beebe was recorded as being opposed to the motion.  \\n \\n5.1.11 On motion of Dr. Miranti,  seconded by Mr. Lee,  the Board receive d the \\nSummary of Public Comments and Age ncy Response regarding revisions  \\nto Bulletin 135, Health and Safety :  Chapter 5.  Injury Management \\nProgram Rules for Serious Sports Injuries and Chapter 7: Glossary, and \\ndirect ed BESE staff to pr oceed with the final adoption of the January 20, \\n2014, Notic e of Intent regarding revisions to Bulletin 135, Health and \\nSafety , Chapters 5 and 7. \\n \\nAgenda  \\nItem 5.2.  Administration and Finance Committee  (Schedule 3)  \\n \\n \\n5.2.1 On motion of Mr. Guillot,  seconded by Mr. Lee , the Board received  the \\nreport on 8(g) monitor ing visits conducted by Board staff.  \\n \\n5.2.2 On motion of Mr. Guillot, seconded by Mr. Lee, the Board received  the \\nquarterly report from the LDE Director of Internal Audit.  \\n \\n5.2.3 On motion of Mr. Guillot, seconded by Mr. Lee, the Board received  the \\nrepor t on LDE contracts of $50,000 and under approved by the State \\nSuperintendent of Education.  \\n '"
      ]
     },
     "execution_count": 19,
     "metadata": {},
     "output_type": "execute_result"
    }
   ],
   "source": [
    "import PyPDF2 as pdf\n",
    "pdfFileObj = open(\"mm.pdf\",'rb')\n",
    "pdfReader = pdf.PdfReader(pdfFileObj)\n",
    "pageObj = pdfReader.pages[4]\n",
    "pageObj.extract_text()"
   ]
  },
  {
   "cell_type": "markdown",
   "id": "f88aea2a",
   "metadata": {
    "id": "ddc7d5e9"
   },
   "source": [
    "#### 3. What PdfFileReader variable stores the number of pages in the PDF document?\n",
    "**Ans:** **`getNumPages()`** method of **`PdfFileReader`** class stores the no pages in a PDF document"
   ]
  },
  {
   "cell_type": "code",
   "execution_count": 23,
   "id": "eaf52330",
   "metadata": {
    "id": "eaf52330"
   },
   "outputs": [
    {
     "data": {
      "text/plain": [
       "19"
      ]
     },
     "execution_count": 23,
     "metadata": {},
     "output_type": "execute_result"
    }
   ],
   "source": [
    "import PyPDF2 as pdf\n",
    "pdfFileObj = open(\"mm.pdf\",'rb')\n",
    "pdfReader = pdf.PdfReader(pdfFileObj)\n",
    "len(pdfReader.pages)"
   ]
  },
  {
   "cell_type": "markdown",
   "id": "b750ecda",
   "metadata": {
    "id": "b750ecda"
   },
   "source": [
    "#### 4. If a PdfFileReader object’s PDF is encrypted with the password swordfish, what must you do before you can obtain Page objects from it?\n",
    "**Ans:** If a **`PdfFileReader`** object’s PDF is encrypted with the password **`swordfish`** and we are not aware of it, we will  first read the Pdf using the PdfFileReader Class. PdfFileReader class provides a attribute called **`isEncrypted`** to check whether a pdf is encrypted or not. The method returns true if a pdf is encrypted and vice versa.  \n",
    "If pdf is encrypted we will use the **`decrypt()`** method provided by PdfFileReader class and then we will try to read the contents/pages of the pdf, else PyPDF2 will raise the following error **`PyPDF2.utils.PdfReadError: file has not been decrypted`**"
   ]
  },
  {
   "cell_type": "markdown",
   "id": "eb2989bf",
   "metadata": {
    "id": "eb2989bf"
   },
   "source": [
    "#### 5. What methods do you use to rotate a page?\n",
    "**Ans:** PyPDF2 Package provides 2 methods to rotate a page:\n",
    "1. **`rotateClockWise()`** -> For Clockwise rotation\n",
    "2. **`rotateCounterClockWise()`** -> For Counter Clockwise rotation  \n",
    "\n",
    "The PyPDF2 package only allows you to rotate a page in increments of 90 degrees. You will receive an AssertionError otherwise."
   ]
  },
  {
   "cell_type": "markdown",
   "id": "2b46fab1",
   "metadata": {
    "id": "2b46fab1"
   },
   "source": [
    "#### 6. What is the difference between a Run object and a Paragraph object?\n",
    "**Ans:** The structure of a document is represented by three different data types in **`python-Docx`**. At the highest level, a `Document` object represents the entire document. The Document object contains a list of **`Paragraph`** objects for the paragraphs in the document. (A new paragraph begins whenever the user presses `ENTER` or `RETURN` while typing in a Word document.) Each of these Paragraph objects contains a list of one or more **`Run`** objects.\n",
    "\n",
    "The text in a Word document is more than just a string. It has font, size, color, and other styling information associated with it. A style in Word is a collection of these attributes. A Run object is a contiguous run of text with the same style. A new Run object is needed whenever the text style changes."
   ]
  },
  {
   "cell_type": "markdown",
   "id": "4880f471",
   "metadata": {
    "id": "4880f471"
   },
   "source": [
    "#### 7. How do you obtain a list of Paragraph objects for a Document object that’s stored in a variable named doc?"
   ]
  },
  {
   "cell_type": "markdown",
   "id": "d1b530b3",
   "metadata": {},
   "source": [
    "**Ans:** Use doc.paragraphs."
   ]
  },
  {
   "cell_type": "markdown",
   "id": "4e696c59",
   "metadata": {
    "id": "4e696c59"
   },
   "source": [
    "#### 8. What type of object has bold, underline, italic, strike, and outline variables?\n",
    "**Ans:** **`Run`**  object has bold, underline, italic, strike, and outline variables. The text in a Word document is more than just a string. It has font, size, color, and other styling information associated with it.\n",
    "\n",
    "A style in Word is a collection of these attributes. A Run object is a contiguous run of text with the same style. A new Run object is needed whenever the text style changes."
   ]
  },
  {
   "cell_type": "markdown",
   "id": "0ff87713",
   "metadata": {
    "id": "0ff87713"
   },
   "source": [
    "#### 9. What is the difference between False, True, and None for the bold variable?"
   ]
  },
  {
   "cell_type": "code",
   "execution_count": null,
   "id": "2e8087e0",
   "metadata": {
    "id": "2e8087e0"
   },
   "outputs": [],
   "source": [
    "bold = True  # Style Set to Bold\n",
    "bold = False # Style Not Set to Bold\n",
    "bold = None # Style is Not Applicable"
   ]
  },
  {
   "cell_type": "markdown",
   "id": "7a280546",
   "metadata": {
    "id": "7a280546"
   },
   "source": [
    "#### 10. How do you create a Document object for a new Word document?"
   ]
  },
  {
   "cell_type": "code",
   "execution_count": null,
   "id": "9a1d1970",
   "metadata": {
    "id": "9a1d1970"
   },
   "outputs": [],
   "source": [
    "from docx import Document\n",
    "document = Document()\n",
    "document.add_paragraph(\"iNeuron Full Stack DataScience Course\")\n",
    "document.save('mydocument.docx')"
   ]
  },
  {
   "cell_type": "markdown",
   "id": "0b9f5441",
   "metadata": {
    "id": "0b9f5441"
   },
   "source": [
    "#### 11. How do you add a paragraph with the text 'Hello, there!' to a Document object stored in a variable named doc?"
   ]
  },
  {
   "cell_type": "code",
   "execution_count": null,
   "id": "031fd95f",
   "metadata": {
    "id": "031fd95f"
   },
   "outputs": [],
   "source": [
    "from docx import Document\n",
    "doc = Document()\n",
    "doc.add_paragraph('Hello, there!')\n",
    "doc.save('hello.docx')"
   ]
  },
  {
   "cell_type": "markdown",
   "id": "cfed7bb9",
   "metadata": {
    "id": "cfed7bb9"
   },
   "source": [
    "#### 12. What integers represent the levels of headings available in Word documents?\n",
    "**Ans:** The levels for a heading in a word document can be specified by using the **`level`** attribute inside the **`add_heading`** method. There are a total of 5 levels statring for 0 to 4. where level 0 makes a headline with the horizontal line below the text, whereas the heading level 1 is the main heading. Similarly, the other headings are sub-heading with their's font-sizes in decreasing order."
   ]
  },
  {
   "cell_type": "code",
   "execution_count": null,
   "id": "8fd51b5f",
   "metadata": {},
   "outputs": [],
   "source": []
  }
 ],
 "metadata": {
  "colab": {
   "collapsed_sections": [],
   "name": "Python Basics Assignment_12.ipynb",
   "provenance": []
  },
  "kernelspec": {
   "display_name": "Python 3 (ipykernel)",
   "language": "python",
   "name": "python3"
  },
  "language_info": {
   "codemirror_mode": {
    "name": "ipython",
    "version": 3
   },
   "file_extension": ".py",
   "mimetype": "text/x-python",
   "name": "python",
   "nbconvert_exporter": "python",
   "pygments_lexer": "ipython3",
   "version": "3.9.13"
  }
 },
 "nbformat": 4,
 "nbformat_minor": 5
}
