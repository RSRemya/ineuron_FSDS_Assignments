{
 "cells": [
  {
   "cell_type": "markdown",
   "id": "2fcd0721",
   "metadata": {},
   "source": [
    "# Programming Assignment 11"
   ]
  },
  {
   "cell_type": "markdown",
   "id": "2055da9e",
   "metadata": {},
   "source": [
    "**1. Write a Python program to find words which are greater than given length k?**"
   ]
  },
  {
   "cell_type": "code",
   "execution_count": 1,
   "id": "5591752a",
   "metadata": {},
   "outputs": [
    {
     "name": "stdout",
     "output_type": "stream",
     "text": [
      "Abdul\n",
      "Kalam\n"
     ]
    }
   ],
   "source": [
    "def word_k(k, s):    \n",
    "    # split the string where space comes\n",
    "    word = s.split(\" \")\n",
    "    # iterate the loop for every word\n",
    "    for x in word:\n",
    "        # if length of current word\n",
    "        if len(x)>k:\n",
    "          # greater than k then\n",
    "          print(x)\n",
    "k = 4\n",
    "s =\"APJ Abdul Kalam\"\n",
    "word_k(k, s)"
   ]
  },
  {
   "cell_type": "markdown",
   "id": "1e7c91f9",
   "metadata": {},
   "source": [
    "**2. Write a Python program for removing i-th character from a string?**"
   ]
  },
  {
   "cell_type": "code",
   "execution_count": 2,
   "id": "d68cc804",
   "metadata": {},
   "outputs": [
    {
     "name": "stdout",
     "output_type": "stream",
     "text": [
      "Amartya\n"
     ]
    }
   ],
   "source": [
    "def remove_char(s, i):\n",
    "    a = s[ : i]\n",
    "    b = s[i + 1: ]\n",
    "\n",
    "    return a+b\n",
    "\n",
    "string = \"AAmartya\"\n",
    "# Remove ith index element\n",
    "i = 1\n",
    "print(remove_char(string,i-1))"
   ]
  },
  {
   "cell_type": "markdown",
   "id": "f9f64884",
   "metadata": {},
   "source": [
    "**3. Write a Python program to split and join a string?**"
   ]
  },
  {
   "cell_type": "code",
   "execution_count": 4,
   "id": "70b8e07c",
   "metadata": {},
   "outputs": [
    {
     "name": "stdout",
     "output_type": "stream",
     "text": [
      "['Basic', 'Python', 'Programming', 'Assignment']\n",
      "Basic-Python-Programming-Assignment\n"
     ]
    }
   ],
   "source": [
    "s = 'Basic Python Programming Assignment'\n",
    "# print the string after split method\n",
    "print(s.split(\" \"))\n",
    "# print the string after join method\n",
    "print(\"-\".join(s.split()))"
   ]
  },
  {
   "cell_type": "markdown",
   "id": "c82f0462",
   "metadata": {},
   "source": [
    "**4. Write a Python to check if a given string is binary string or not?**"
   ]
  },
  {
   "cell_type": "code",
   "execution_count": 6,
   "id": "f7cb60b1",
   "metadata": {},
   "outputs": [
    {
     "name": "stdout",
     "output_type": "stream",
     "text": [
      "Enter a string to get output whether its binary string or not : 10001010\n",
      "Yes\n"
     ]
    }
   ],
   "source": [
    "import re\n",
    " \n",
    "sampleInput = input(\"Enter a string to get output whether its binary string or not : \")\n",
    " \n",
    "# regular expression to find the strings, which have characters other than 0 and 1\n",
    "c = re.compile('[^01]')\n",
    " \n",
    "# use findall() to get the list of strings that have characters other than 0 and 1.\n",
    "\n",
    "if(len(c.findall(sampleInput))):\n",
    "    print(\"No\") # if length of list > 0 then it is not binary\n",
    "else:\n",
    "    print(\"Yes\") # if length of list = 0 then it is binary"
   ]
  },
  {
   "cell_type": "markdown",
   "id": "4b56f700",
   "metadata": {},
   "source": [
    "**5. Write a Python program to find uncommon words from two Strings?**"
   ]
  },
  {
   "cell_type": "code",
   "execution_count": 7,
   "id": "9333a4bd",
   "metadata": {},
   "outputs": [
    {
     "name": "stdout",
     "output_type": "stream",
     "text": [
      "['Class', 'Basic', 'Programming', 'Assignment']\n"
     ]
    }
   ],
   "source": [
    "def uncommon(s1, s2):\n",
    "    count = {}\n",
    "    for word in s1.split():\n",
    "        count[word] = count.get(word, 0) + 1\n",
    "    # words of string s2\n",
    "    for word in s2.split():\n",
    "        count[word] = count.get(word, 0) + 1\n",
    "    # return required list of words\n",
    "    return [word for word in count if count[word] == 1]\n",
    "\n",
    "s1=\"Python Class\"\n",
    "s2=\"Basic Python Programming Assignment\"\n",
    "  \n",
    "# Print required answer\n",
    "print(uncommon(s1, s2))"
   ]
  },
  {
   "cell_type": "markdown",
   "id": "6f53f72c",
   "metadata": {},
   "source": [
    "**6. Write a Python to find all duplicate characters in string?**"
   ]
  },
  {
   "cell_type": "code",
   "execution_count": 11,
   "id": "914d3c94",
   "metadata": {},
   "outputs": [
    {
     "name": "stdout",
     "output_type": "stream",
     "text": [
      "Enter a string to check duplicate characters : programming\n",
      "The duplicate characters are ['r', 'g', 'm']\n"
     ]
    }
   ],
   "source": [
    "str = input(\"Enter a string to check duplicate characters : \")\n",
    "dups=[]\n",
    "for ch in str:\n",
    "    if str.count(ch)>1 and ch not in dups:\n",
    "        dups.append(ch)\n",
    "print('The duplicate characters are {}'.format(dups))"
   ]
  },
  {
   "cell_type": "markdown",
   "id": "6eed519e",
   "metadata": {},
   "source": [
    "**7. Write a Python Program to check if a string contains any special character?**"
   ]
  },
  {
   "cell_type": "code",
   "execution_count": 14,
   "id": "96225200",
   "metadata": {},
   "outputs": [
    {
     "name": "stdout",
     "output_type": "stream",
     "text": [
      "String has special character\n"
     ]
    }
   ],
   "source": [
    "import string\n",
    " \n",
    "def check_string(s):\n",
    "    for c in s:\n",
    "        if c in string.punctuation:\n",
    "            print(\"String has special character\")\n",
    "            return\n",
    "    print(\"String no has special character\")\n",
    "    \n",
    "check_string(\"@ India\")  "
   ]
  },
  {
   "cell_type": "code",
   "execution_count": 15,
   "id": "0687bb72",
   "metadata": {},
   "outputs": [
    {
     "name": "stdout",
     "output_type": "stream",
     "text": [
      "String no has special character\n"
     ]
    }
   ],
   "source": [
    "check_string(\"at India\") "
   ]
  },
  {
   "cell_type": "code",
   "execution_count": null,
   "id": "470e506d",
   "metadata": {},
   "outputs": [],
   "source": []
  }
 ],
 "metadata": {
  "kernelspec": {
   "display_name": "Python 3 (ipykernel)",
   "language": "python",
   "name": "python3"
  },
  "language_info": {
   "codemirror_mode": {
    "name": "ipython",
    "version": 3
   },
   "file_extension": ".py",
   "mimetype": "text/x-python",
   "name": "python",
   "nbconvert_exporter": "python",
   "pygments_lexer": "ipython3",
   "version": "3.9.13"
  }
 },
 "nbformat": 4,
 "nbformat_minor": 5
}
