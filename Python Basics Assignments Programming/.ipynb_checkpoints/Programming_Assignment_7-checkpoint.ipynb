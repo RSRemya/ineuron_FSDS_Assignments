{
 "cells": [
  {
   "cell_type": "markdown",
   "id": "fa9887c5",
   "metadata": {},
   "source": [
    "# Programming Assignment 7"
   ]
  },
  {
   "cell_type": "markdown",
   "id": "dd902cf9",
   "metadata": {},
   "source": [
    "**1. Write a Python Program to find sum of array?**"
   ]
  },
  {
   "cell_type": "code",
   "execution_count": 1,
   "id": "3e62cd9e",
   "metadata": {},
   "outputs": [
    {
     "name": "stdout",
     "output_type": "stream",
     "text": [
      "Sum of the array is  61\n"
     ]
    }
   ],
   "source": [
    "arr = [9, 13, 4, 15,20]\n",
    " \n",
    "# sum() is an inbuilt function in python that adds all the elements in list,set and tuples and returns the value\n",
    "ans = sum(arr)\n",
    "print('Sum of the array is ', ans)"
   ]
  },
  {
   "cell_type": "markdown",
   "id": "e88cfd9b",
   "metadata": {},
   "source": [
    "**2. Write a Python Program to find largest element in an array?**"
   ]
  },
  {
   "cell_type": "code",
   "execution_count": 2,
   "id": "2640d42d",
   "metadata": {},
   "outputs": [
    {
     "name": "stdout",
     "output_type": "stream",
     "text": [
      "79\n"
     ]
    }
   ],
   "source": [
    "a = [23, 79, 19, 56, 43, 6]\n",
    "max_element = a[0]\n",
    "\n",
    "for i in range(len(a)):\n",
    "    if a[i] > max_element:\n",
    "        max_element = a[i]\n",
    "\n",
    "print (max_element)"
   ]
  },
  {
   "cell_type": "markdown",
   "id": "2da583fb",
   "metadata": {},
   "source": [
    "**3. Write a Python Program for array rotation?**"
   ]
  },
  {
   "cell_type": "code",
   "execution_count": 3,
   "id": "ae16db72",
   "metadata": {},
   "outputs": [
    {
     "name": "stdout",
     "output_type": "stream",
     "text": [
      "Array after left rotation is:  [13, 14, 15, 16, 17, 18, 19, 11, 12]\n"
     ]
    }
   ],
   "source": [
    "def rotateArray(a,d):\n",
    "    temp = []\n",
    "    n=len(a)\n",
    "    for i in range(d,n):\n",
    "        temp.append(a[i])\n",
    "    i = 0\n",
    "    for i in range (0,d):\n",
    "        temp.append(a[i])\n",
    "    a=temp.copy()\n",
    "    return a\n",
    " \n",
    "arr = [11, 12, 13, 14, 15, 16, 17,18,19]\n",
    "print(\"Array after left rotation is: \", end=' ')\n",
    "print(rotateArray(arr, 2))\n"
   ]
  },
  {
   "cell_type": "markdown",
   "id": "e3794201",
   "metadata": {},
   "source": [
    "**4. Write a Python Program to Split the array and add the first part to the end?**"
   ]
  },
  {
   "cell_type": "code",
   "execution_count": 4,
   "id": "98f1ff5e",
   "metadata": {},
   "outputs": [
    {
     "name": "stdout",
     "output_type": "stream",
     "text": [
      "Output array is [5, 17, 67, 89, 20, 32, 10, 13]\n"
     ]
    }
   ],
   "source": [
    "def split(arr, k):\n",
    "    arr = arr[k:] + arr[:k]\n",
    "    return arr\n",
    "   \n",
    "k = 4 # position of splitting\n",
    "arr = [20, 32, 10, 13, 5, 17, 67, 89]\n",
    "print(\"Output array is\", split(arr, k))"
   ]
  },
  {
   "cell_type": "markdown",
   "id": "7d4c5667",
   "metadata": {},
   "source": [
    "**5. Write a Python Program to check if given array is Monotonic?**"
   ]
  },
  {
   "cell_type": "code",
   "execution_count": 5,
   "id": "3f6e63d2",
   "metadata": {},
   "outputs": [
    {
     "name": "stdout",
     "output_type": "stream",
     "text": [
      "True\n"
     ]
    }
   ],
   "source": [
    "# Check if given array is Monotonic\n",
    "def isMonotonic(A):\n",
    "    x, y = [], []\n",
    "    x.extend(A)\n",
    "    y.extend(A)\n",
    "    x.sort()\n",
    "    y.sort(reverse=True)\n",
    "    if(x == A or y == A):\n",
    "        return True\n",
    "    return False\n",
    " \n",
    "A = [6, 5, 4, 4]\n",
    " \n",
    "# Print required result\n",
    "print(isMonotonic(A))"
   ]
  },
  {
   "cell_type": "code",
   "execution_count": 6,
   "id": "911c12fd",
   "metadata": {},
   "outputs": [
    {
     "name": "stdout",
     "output_type": "stream",
     "text": [
      "False\n"
     ]
    }
   ],
   "source": [
    "B = [1, 2, 3, 4, 5, 4]\n",
    "print(isMonotonic(B))"
   ]
  },
  {
   "cell_type": "code",
   "execution_count": null,
   "id": "9a0b06be",
   "metadata": {},
   "outputs": [],
   "source": []
  }
 ],
 "metadata": {
  "kernelspec": {
   "display_name": "Python 3 (ipykernel)",
   "language": "python",
   "name": "python3"
  },
  "language_info": {
   "codemirror_mode": {
    "name": "ipython",
    "version": 3
   },
   "file_extension": ".py",
   "mimetype": "text/x-python",
   "name": "python",
   "nbconvert_exporter": "python",
   "pygments_lexer": "ipython3",
   "version": "3.9.13"
  }
 },
 "nbformat": 4,
 "nbformat_minor": 5
}
