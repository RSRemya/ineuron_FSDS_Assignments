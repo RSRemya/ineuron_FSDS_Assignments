{
 "cells": [
  {
   "cell_type": "markdown",
   "id": "39d5b94f",
   "metadata": {},
   "source": [
    "# Assignment 1"
   ]
  },
  {
   "cell_type": "markdown",
   "id": "263e665b",
   "metadata": {},
   "source": [
    "**Q1. What is the purpose of Python&#39;s OOP?**"
   ]
  },
  {
   "cell_type": "markdown",
   "id": "f9d81bb9",
   "metadata": {},
   "source": [
    "**Ans:** There are many benefits of usings OPP concepts in python programming language:\n",
    "    \n",
    "Modularity for easier troubleshooting\n",
    "\n",
    "Reuse of code through inheritance\n",
    "\n",
    "Flexibility through polymorphism\n",
    "\n",
    "Effective problem solving ,etc\n",
    "\n",
    "There are four pillars of Oops:\n",
    "    \n",
    "    1. Encapsulation - It describes the idea of wrapping data and the methods that work on data within one unit. This puts restrictions on accessing variables and methods directly and can prevent the accidental modification of data\n",
    "    \n",
    "    2. Inheritance - Inheritance is the capability of one class to derive or inherit the properties from an added class. \n",
    "    \n",
    "    It represents real-world relationships well.\n",
    "It provides the reusability of a code. We do not have to write the same code again and again. It allows us to add more features to a class without modifying it.\n",
    "It is transitive, which means that if class B inherits from added class A, all the subclasses of B would automatically inherit from class A.\n",
    "\n",
    "    3. Polymorphism - The word polymorphism means having many forms. In programming, polymorphism means the same function name (different signatures) being use for different types.\n",
    "    \n",
    "    4. Abstraction - Abstraction is used to hide the internal functionality of the function from the users. The users only interact with the basic implementation of the function; inner working is hidden. User is familiar with that “what function does” they do not know “how it does.”"
   ]
  },
  {
   "cell_type": "markdown",
   "id": "14872dea",
   "metadata": {},
   "source": [
    "**Q2. Where does an inheritance search look for an attribute?**"
   ]
  },
  {
   "cell_type": "markdown",
   "id": "1cb0ed23",
   "metadata": {},
   "source": [
    "**Ans:** An inheritance search looks for an attribute first in the instance object, then in the class the instance was created from, then in all higher superclasses, progressing from left to right (by default). The search stops at the first place the attribute is found."
   ]
  },
  {
   "cell_type": "markdown",
   "id": "e38f550b",
   "metadata": {},
   "source": [
    "**Q3. How do you distinguish between a class object and an instance object?**"
   ]
  },
  {
   "cell_type": "markdown",
   "id": "2b784e0c",
   "metadata": {},
   "source": [
    "**Ans:** Classes are a kind of factory for creating multiple instances. Classes also support operator overloading methods, which instances inherit, and treat any functions nested in the class as methods for processing instances."
   ]
  },
  {
   "cell_type": "markdown",
   "id": "10d1b3b8",
   "metadata": {},
   "source": [
    "**Q4. What makes the first argument in a class’s method function special?**"
   ]
  },
  {
   "cell_type": "markdown",
   "id": "b31d91d0",
   "metadata": {},
   "source": [
    "**Ans:** It always receives the instance object that is the implied subject of the method call. It’s usually called ‘self’ by convention."
   ]
  },
  {
   "cell_type": "markdown",
   "id": "f3140001",
   "metadata": {},
   "source": [
    "**Q5. What is the purpose of the __init__ method?**"
   ]
  },
  {
   "cell_type": "markdown",
   "id": "6862f78a",
   "metadata": {},
   "source": [
    "**Ans:** If the __init__ method is coded or inherited in a class, Python calls it automatically each time an instance of that class is created."
   ]
  },
  {
   "cell_type": "code",
   "execution_count": 1,
   "id": "0a5ffb1e",
   "metadata": {},
   "outputs": [],
   "source": [
    "# __init__ is a constructor used to avoid repitation of variable assignment in objects formed\n",
    "# so in order to avoid such lengthy codes, __init__ is used\n",
    "\n",
    "class toy:\n",
    "    def __init__(self,name,color,weight):\n",
    "        #self is pointer \n",
    "        #& rest of the things : name,color,weight are attributes\n",
    "        self.name = name\n",
    "        self.color = color\n",
    "        self.weight = weight\n",
    "        \n",
    "    def introduction(self):\n",
    "        print(f\"Color of {self.name} is {self.color}. {self.name} weights {self.weight}\")"
   ]
  },
  {
   "cell_type": "code",
   "execution_count": 2,
   "id": "9e4228ef",
   "metadata": {},
   "outputs": [
    {
     "name": "stdout",
     "output_type": "stream",
     "text": [
      "Color of Tom is grey. Tom weights 100 gm\n"
     ]
    }
   ],
   "source": [
    "t1 = toy(\"Tom\",\"grey\",\"100 gm\")\n",
    "t1.introduction()"
   ]
  },
  {
   "cell_type": "code",
   "execution_count": 3,
   "id": "f235842f",
   "metadata": {},
   "outputs": [
    {
     "name": "stdout",
     "output_type": "stream",
     "text": [
      "Color of Jerry is brown. Jerry weights 10 gm\n"
     ]
    }
   ],
   "source": [
    "t2 = toy(\"Jerry\",\"brown\",\"10 gm\")\n",
    "t2.introduction()"
   ]
  },
  {
   "cell_type": "markdown",
   "id": "99f1015d",
   "metadata": {},
   "source": [
    "**Q6. What is the process for creating a class instance?**"
   ]
  },
  {
   "cell_type": "markdown",
   "id": "061698f8",
   "metadata": {},
   "source": [
    "**Ans:** To create instances of a class, you call the class using class name and pass in whatever arguments its __init__ method accepts."
   ]
  },
  {
   "cell_type": "code",
   "execution_count": 4,
   "id": "6fd23a21",
   "metadata": {},
   "outputs": [],
   "source": [
    "class State:\n",
    "    def name(self):\n",
    "        print(\"The state is : \", self.n)# n is an argument\n",
    "        \n",
    "    def capital(self):\n",
    "        print(\"The capital of state is : \", self.c)# c is an argument"
   ]
  },
  {
   "cell_type": "code",
   "execution_count": 5,
   "id": "131be8fc",
   "metadata": {},
   "outputs": [
    {
     "name": "stdout",
     "output_type": "stream",
     "text": [
      "The state is :  Kerala\n"
     ]
    }
   ],
   "source": [
    "a=State() # Object of class State\n",
    "\n",
    "a.n=\"Kerala\"\n",
    "a.c=\"Thiruvananthapuram\"\n",
    "#in above two statements n and c are class variable/instance variable/variable/attributes\n",
    "\n",
    "a.name()"
   ]
  },
  {
   "cell_type": "markdown",
   "id": "b0a69118",
   "metadata": {},
   "source": [
    "**Q7. What is the process for creating a class?**"
   ]
  },
  {
   "cell_type": "code",
   "execution_count": 6,
   "id": "cc12db5c",
   "metadata": {},
   "outputs": [
    {
     "name": "stdout",
     "output_type": "stream",
     "text": [
      "<class '__main__.MyClass'>\n"
     ]
    }
   ],
   "source": [
    "class MyClass:\n",
    "    x = 5\n",
    "\n",
    "print(MyClass)"
   ]
  },
  {
   "cell_type": "markdown",
   "id": "8248edd8",
   "metadata": {},
   "source": [
    "**Q8. How would you define the superclasses of a class?**"
   ]
  },
  {
   "cell_type": "markdown",
   "id": "cf3c323f",
   "metadata": {},
   "source": [
    "**Ans:** A subclass is a class derived from the superclass. It inherits the properties of the superclass and also contains attributes of its own. A superclass is the class from which many subclasses can be created. The subclasses inherit the characteristics of a superclass. The superclass is also known as the parent class or base class."
   ]
  },
  {
   "cell_type": "code",
   "execution_count": 7,
   "id": "b10f11a9",
   "metadata": {},
   "outputs": [],
   "source": [
    "class Vehicle:\n",
    "    def info(self):\n",
    "        print(\"This is Vechicle\")\n",
    "        \n",
    "\n",
    "class Car(Vehicle):\n",
    "    def car_info(self,name):\n",
    "        print(\"car name\",name)\n",
    "        \n",
    "\n",
    "class Truck(Vehicle):\n",
    "    def truck_info(self,name):\n",
    "        print(\"truck name\",name)"
   ]
  },
  {
   "cell_type": "code",
   "execution_count": 8,
   "id": "cbd006be",
   "metadata": {},
   "outputs": [
    {
     "name": "stdout",
     "output_type": "stream",
     "text": [
      "This is Vechicle\n"
     ]
    }
   ],
   "source": [
    "s1=Car()\n",
    "\n",
    "s1.info()"
   ]
  },
  {
   "cell_type": "code",
   "execution_count": 9,
   "id": "94af3cbb",
   "metadata": {},
   "outputs": [
    {
     "name": "stdout",
     "output_type": "stream",
     "text": [
      "This is Vechicle\n"
     ]
    }
   ],
   "source": [
    "t1=Truck()\n",
    "\n",
    "t1.info()"
   ]
  },
  {
   "cell_type": "markdown",
   "id": "81674937",
   "metadata": {},
   "source": [
    "Here Vehicle is Superclass and Car & Truck are subclass"
   ]
  },
  {
   "cell_type": "code",
   "execution_count": null,
   "id": "859e1f33",
   "metadata": {},
   "outputs": [],
   "source": []
  }
 ],
 "metadata": {
  "kernelspec": {
   "display_name": "Python 3 (ipykernel)",
   "language": "python",
   "name": "python3"
  },
  "language_info": {
   "codemirror_mode": {
    "name": "ipython",
    "version": 3
   },
   "file_extension": ".py",
   "mimetype": "text/x-python",
   "name": "python",
   "nbconvert_exporter": "python",
   "pygments_lexer": "ipython3",
   "version": "3.9.13"
  }
 },
 "nbformat": 4,
 "nbformat_minor": 5
}
